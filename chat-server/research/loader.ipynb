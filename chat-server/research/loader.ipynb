{
 "cells": [
  {
   "cell_type": "code",
   "execution_count": 8,
   "metadata": {},
   "outputs": [],
   "source": [
    "from llama_index.core import VectorStoreIndex, SimpleDirectoryReader, Settings\n",
    "from llama_index.llms.ollama import Ollama\n",
    "Settings.llm = Ollama(model=\"mistral\", request_timeout=50)"
   ]
  },
  {
   "cell_type": "code",
   "execution_count": 28,
   "metadata": {},
   "outputs": [
    {
     "ename": "TypeError",
     "evalue": "object list can't be used in 'await' expression",
     "output_type": "error",
     "traceback": [
      "\u001b[0;31m---------------------------------------------------------------------------\u001b[0m",
      "\u001b[0;31mTypeError\u001b[0m                                 Traceback (most recent call last)",
      "Cell \u001b[0;32mIn[28], line 9\u001b[0m\n\u001b[1;32m      7\u001b[0m soup_loader \u001b[38;5;241m=\u001b[39m BeautifulSoupWebReader()\n\u001b[1;32m      8\u001b[0m \u001b[38;5;66;03m#loader = ReadabilityWebPageReader()\u001b[39;00m\n\u001b[0;32m----> 9\u001b[0m documents \u001b[38;5;241m=\u001b[39m \u001b[38;5;28;01mawait\u001b[39;00m soup_loader\u001b[38;5;241m.\u001b[39mload_data(urls\u001b[38;5;241m=\u001b[39m[URL])\n",
      "\u001b[0;31mTypeError\u001b[0m: object list can't be used in 'await' expression"
     ]
    }
   ],
   "source": [
    "from llama_index.core import download_loader\n",
    "from llama_index.readers.web import ReadabilityWebPageReader, BeautifulSoupWebReader\n",
    "\n",
    "#soup = download_loader(\"BeautifulSoupWebReader\")\n",
    "\n",
    "URL = \"https://en.wikipedia.org/wiki/Python_(programming_language)\"\n",
    "soup_loader = BeautifulSoupWebReader()\n",
    "#loader = ReadabilityWebPageReader()\n",
    "documents = await soup_loader.load_data(urls=[URL])"
   ]
  },
  {
   "cell_type": "code",
   "execution_count": 31,
   "metadata": {},
   "outputs": [],
   "source": [
    "from llama_index.readers.web import ReadabilityWebPageReader, MainContentExtractorReader\n",
    "\n",
    "loader = MainContentExtractorReader()\n",
    "\n",
    "docs = loader.load_data(\n",
    "    urls=[\n",
    "        \"https://medium.com/@beccajean/april-brings-americas-first-total-eclipse-since-2017-what-you-need-to-know-c43af9b8cd3d\"\n",
    "    ]\n",
    ")"
   ]
  },
  {
   "cell_type": "markdown",
   "metadata": {},
   "source": [
    "documents"
   ]
  },
  {
   "cell_type": "code",
   "execution_count": 33,
   "metadata": {},
   "outputs": [
    {
     "data": {
      "text/plain": [
       "'Enable JavaScript and cookies to continue\\n\\n'"
      ]
     },
     "execution_count": 33,
     "metadata": {},
     "output_type": "execute_result"
    }
   ],
   "source": [
    "docs[0].text"
   ]
  },
  {
   "cell_type": "code",
   "execution_count": 45,
   "metadata": {},
   "outputs": [],
   "source": [
    "#html = open(\"sample.html\").read()\n",
    "import requests\n",
    "url =\"https://medium.com/@beccajean/april-brings-americas-first-total-eclipse-since-2017-what-you-need-to-know-c43af9b8cd3d\"\n",
    "html = requests.get(url, headers={'User-Agent': 'Mozilla/5.0 (Windows NT 10.0; Win64; x64) AppleWebKit/537.36 (KHTML, like Gecko) Chrome/58.0.3029.110 Safari/537.3'}).text"
   ]
  },
  {
   "cell_type": "code",
   "execution_count": 46,
   "metadata": {},
   "outputs": [],
   "source": [
    "from main_content_extractor import MainContentExtractor"
   ]
  },
  {
   "cell_type": "code",
   "execution_count": 47,
   "metadata": {},
   "outputs": [],
   "source": [
    "extracted_html = MainContentExtractor.extract(html)"
   ]
  },
  {
   "cell_type": "code",
   "execution_count": 49,
   "metadata": {},
   "outputs": [
    {
     "data": {
      "text/plain": [
       "'<article class=\"meteredContent\">\\n <div class=\"l\">\\n  <div class=\"l\">\\n   <span class=\"l\">\\n   </span>\\n   <section>\\n    <div>\\n     <div class=\"fr gh gi gj gk gl\">\\n     </div>\\n     <div>\\n      <div class=\"speechify-ignore l\">\\n       <div class=\"gm gn go gp gq l\">\\n       </div>\\n       <div class=\"ab ca\">\\n        <div class=\"ch bg fy fz ga gb\">\\n         <div class=\"ck l\">\\n          <div class=\"gt ab\">\\n           <div aria-hidden=\"false\" class=\"bl\">\\n            <button aria-label=\"Member-only story\" class=\"l ax ao am\">\\n             <div class=\"h k j i d\">\\n              <div>\\n               <div aria-hidden=\"false\" class=\"bl\">\\n                <svg fill=\"none\" height=\"16\" viewbox=\"0 0 64 64\" width=\"16\">\\n                 <path d=\"M39.64 40.83L33.87 56.7a1.99 1.99 0 0 1-3.74 0l-5.77-15.87a2.02 2.02 0 0 0-1.2-1.2L7.3 33.88a1.99 1.99 0 0 1 0-3.74l15.87-5.77a2.02 2.02 0 0 0 1.2-1.2L30.12 7.3a1.99 1.99 0 0 1 3.74 0l5.77 15.87a2.02 2.02 0 0 0 1.2 1.2l15.86 5.76a1.99 1.99 0 0 1 0 3.74l-15.87 5.77a2.02 2.02 0 0 0-1.2 1.2z\" fill=\"#FFC017\">\\n                 </path>\\n                </svg>\\n               </div>\\n              </div>\\n             </div>\\n             <div class=\"s u w ff fg q\">\\n              <svg class=\"gr gs\" fill=\"none\" height=\"16\" viewbox=\"0 0 64 64\" width=\"16\">\\n               <path d=\"M39.64 40.83L33.87 56.7a1.99 1.99 0 0 1-3.74 0l-5.77-15.87a2.02 2.02 0 0 0-1.2-1.2L7.3 33.88a1.99 1.99 0 0 1 0-3.74l15.87-5.77a2.02 2.02 0 0 0 1.2-1.2L30.12 7.3a1.99 1.99 0 0 1 3.74 0l5.77 15.87a2.02 2.02 0 0 0 1.2 1.2l15.86 5.76a1.99 1.99 0 0 1 0 3.74l-15.87 5.77a2.02 2.02 0 0 0-1.2 1.2z\" fill=\"#FFC017\">\\n               </path>\\n              </svg>\\n              <p class=\"be b bf z dt\">\\n               Member-only story\\n              </p>\\n             </div>\\n            </button>\\n           </div>\\n          </div>\\n         </div>\\n        </div>\\n       </div>\\n      </div>\\n     </div>\\n     <div class=\"gu gv gw gx gy\">\\n      <div class=\"ab ca\">\\n       <div class=\"ch bg fy fz ga gb\">\\n        <div>\\n         <h1 class=\"pw-post-title gz ha hb be hc hd he hf hg hh hi hj hk hl hm hn ho hp hq hr hs ht hu hv hw hx bj\" data-testid=\"storyTitle\" id=\"ecf2\">\\n          April Brings America’s First Total Eclipse Since 2017: What You Need to Know\\n         </h1>\\n         <div class=\"hy hz ia ib ic\">\\n          <div class=\"speechify-ignore ab co\">\\n           <div class=\"speechify-ignore bg l\">\\n            <div class=\"id ie if ig ih ab\">\\n             <div>\\n              <div class=\"ab ii\">\\n               <a href=\"/?source=post_page-----c43af9b8cd3d--------------------------------\" rel=\"noopener follow\">\\n                <div>\\n                 <div aria-hidden=\"false\" class=\"bl\">\\n                  <div class=\"l ij ik bx il im\">\\n                   <div class=\"l fi\">\\n                    <img alt=\"Rebecca Jean T.\" class=\"l fc bx dc dd cw\" data-testid=\"authorPhoto\" height=\"44\" loading=\"lazy\" src=\"https://miro.medium.com/v2/resize:fill:88:88/1*PijO_9Uu3if2Rry5gQFjxQ.jpeg\" width=\"44\"/>\\n                    <div class=\"in bx l dc dd fr n io fs\">\\n                    </div>\\n                   </div>\\n                  </div>\\n                 </div>\\n                </div>\\n               </a>\\n              </div>\\n             </div>\\n             <div class=\"bm bg l\">\\n              <div class=\"ab\">\\n               <div style=\"flex:1\">\\n                <span class=\"be b bf z bj\">\\n                 <div class=\"ip ab q\">\\n                  <div class=\"ab q iq\">\\n                   <div class=\"ab q\">\\n                    <div>\\n                     <div aria-hidden=\"false\" class=\"bl\">\\n                      <p class=\"be b ir is bj\">\\n                       <a class=\"af ag ah ai aj ak al am an ao ap aq ar it\" data-testid=\"authorName\" href=\"/?source=post_page-----c43af9b8cd3d--------------------------------\" rel=\"noopener follow\">\\n                        Rebecca Jean T.\\n                       </a>\\n                      </p>\\n                     </div>\\n                    </div>\\n                   </div>\\n                   <span aria-hidden=\"true\" class=\"iu iv\">\\n                    <span class=\"be b bf z dt\">\\n                     ·\\n                    </span>\\n                   </span>\\n                   <p class=\"be b ir is dt\">\\n                    <span>\\n                     <a class=\"iw ix ah ai aj ak al am an ao ap aq ar ew iy iz\" href=\"https://medium.com/m/signin?actionUrl=https%3A%2F%2Fmedium.com%2F_%2Fsubscribe%2Fuser%2F6a7d695eb4c1&amp;operation=register&amp;redirect=https%3A%2F%2Fbeccajean.medium.com%2Fapril-brings-americas-first-total-eclipse-since-2017-what-you-need-to-know-c43af9b8cd3d&amp;user=Rebecca+Jean+T.&amp;userId=6a7d695eb4c1&amp;source=post_page-6a7d695eb4c1----c43af9b8cd3d---------------------post_header-----------\" rel=\"noopener follow\">\\n                      Follow\\n                     </a>\\n                    </span>\\n                   </p>\\n                  </div>\\n                 </div>\\n                </span>\\n               </div>\\n              </div>\\n              <div class=\"l ja\">\\n               <span class=\"be b bf z dt\">\\n                <div class=\"ab cm jb jc jd\">\\n                 <span class=\"be b bf z dt\">\\n                  <div class=\"ab ae\">\\n                   <span data-testid=\"storyReadTime\">\\n                    7 min read\\n                   </span>\\n                   <div aria-hidden=\"true\" class=\"je jf l\">\\n                    <span aria-hidden=\"true\" class=\"l\">\\n                     <span class=\"be b bf z dt\">\\n                      ·\\n                     </span>\\n                    </span>\\n                   </div>\\n                   <span data-testid=\"storyPublishDate\">\\n                    Mar 8, 2024\\n                   </span>\\n                  </div>\\n                 </span>\\n                </div>\\n               </span>\\n              </div>\\n             </div>\\n            </div>\\n            <div class=\"ab co jg jh ji jj jk jl jm jn jo jp jq jr js jt ju jv\">\\n             <div class=\"h k w ff fg q\">\\n              <div class=\"kl l\">\\n               <div class=\"ab q km kn\">\\n                <div class=\"pw-multi-vote-icon fi gr ko kp kq\">\\n                 <span>\\n                  <a class=\"af ag ah ai aj ak al am an ao ap aq ar as at\" data-testid=\"headerClapButton\" href=\"https://medium.com/m/signin?actionUrl=https%3A%2F%2Fmedium.com%2F_%2Fvote%2Fp%2Fc43af9b8cd3d&amp;operation=register&amp;redirect=https%3A%2F%2Fbeccajean.medium.com%2Fapril-brings-americas-first-total-eclipse-since-2017-what-you-need-to-know-c43af9b8cd3d&amp;user=Rebecca+Jean+T.&amp;userId=6a7d695eb4c1&amp;source=-----c43af9b8cd3d---------------------clap_footer-----------\" rel=\"noopener follow\">\\n                   <div>\\n                    <div aria-hidden=\"false\" class=\"bl\">\\n                     <div class=\"kr ao ks kt ku kv am kw kx ky kq\">\\n                      <svg aria-label=\"clap\" height=\"24\" viewbox=\"0 0 24 24\" width=\"24\">\\n                       <path clip-rule=\"evenodd\" d=\"M11.37.83L12 3.28l.63-2.45h-1.26zM13.92 3.95l1.52-2.1-1.18-.4-.34 2.5zM8.59 1.84l1.52 2.11-.34-2.5-1.18.4zM18.52 18.92a4.23 4.23 0 0 1-2.62 1.33l.41-.37c2.39-2.4 2.86-4.95 1.4-7.63l-.91-1.6-.8-1.67c-.25-.56-.19-.98.21-1.29a.7.7 0 0 1 .55-.13c.28.05.54.23.72.5l2.37 4.16c.97 1.62 1.14 4.23-1.33 6.7zm-11-.44l-4.15-4.15a.83.83 0 0 1 1.17-1.17l2.16 2.16a.37.37 0 0 0 .51-.52l-2.15-2.16L3.6 11.2a.83.83 0 0 1 1.17-1.17l3.43 3.44a.36.36 0 0 0 .52 0 .36.36 0 0 0 0-.52L5.29 9.51l-.97-.97a.83.83 0 0 1 0-1.16.84.84 0 0 1 1.17 0l.97.97 3.44 3.43a.36.36 0 0 0 .51 0 .37.37 0 0 0 0-.52L6.98 7.83a.82.82 0 0 1-.18-.9.82.82 0 0 1 .76-.51c.22 0 .43.09.58.24l5.8 5.79a.37.37 0 0 0 .58-.42L13.4 9.67c-.26-.56-.2-.98.2-1.29a.7.7 0 0 1 .55-.13c.28.05.55.23.73.5l2.2 3.86c1.3 2.38.87 4.59-1.29 6.75a4.65 4.65 0 0 1-4.19 1.37 7.73 7.73 0 0 1-4.07-2.25zm3.23-12.5l2.12 2.11c-.41.5-.47 1.17-.13 1.9l.22.46-3.52-3.53a.81.81 0 0 1-.1-.36c0-.23.09-.43.24-.59a.85.85 0 0 1 1.17 0zm7.36 1.7a1.86 1.86 0 0 0-1.23-.84 1.44 1.44 0 0 0-1.12.27c-.3.24-.5.55-.58.89-.25-.25-.57-.4-.91-.47-.28-.04-.56 0-.82.1l-2.18-2.18a1.56 1.56 0 0 0-2.2 0c-.2.2-.33.44-.4.7a1.56 1.56 0 0 0-2.63.75 1.6 1.6 0 0 0-2.23-.04 1.56 1.56 0 0 0 0 2.2c-.24.1-.5.24-.72.45a1.56 1.56 0 0 0 0 2.2l.52.52a1.56 1.56 0 0 0-.75 2.61L7 19a8.46 8.46 0 0 0 4.48 2.45 5.18 5.18 0 0 0 3.36-.5 4.89 4.89 0 0 0 4.2-1.51c2.75-2.77 2.54-5.74 1.43-7.59L18.1 7.68z\" fill-rule=\"evenodd\">\\n                       </path>\\n                      </svg>\\n                     </div>\\n                    </div>\\n                   </div>\\n                  </a>\\n                 </span>\\n                </div>\\n                <div class=\"pw-multi-vote-count l kz la lb lc ld le lf\">\\n                 <p class=\"be b du z dt\">\\n                  <span class=\"lg\">\\n                   --\\n                  </span>\\n                 </p>\\n                </div>\\n               </div>\\n              </div>\\n              <div>\\n               <div aria-hidden=\"false\" class=\"bl\">\\n                <button aria-label=\"responses\" class=\"ao kr li lj ab q fj lk ll\">\\n                 <svg class=\"hx\" height=\"24\" viewbox=\"0 0 24 24\" width=\"24\">\\n                  <path d=\"M18 16.8a7.14 7.14 0 0 0 2.24-5.32c0-4.12-3.53-7.48-8.05-7.48C7.67 4 4 7.36 4 11.48c0 4.13 3.67 7.48 8.2 7.48a8.9 8.9 0 0 0 2.38-.32c.23.2.48.39.75.56 1.06.69 2.2 1.04 3.4 1.04.22 0 .4-.11.48-.29a.5.5 0 0 0-.04-.52 6.4 6.4 0 0 1-1.16-2.65v.02zm-3.12 1.06l-.06-.22-.32.1a8 8 0 0 1-2.3.33c-4.03 0-7.3-2.96-7.3-6.59S8.17 4.9 12.2 4.9c4 0 7.1 2.96 7.1 6.6 0 1.8-.6 3.47-2.02 4.72l-.2.16v.26l.02.3a6.74 6.74 0 0 0 .88 2.4 5.27 5.27 0 0 1-2.17-.86c-.28-.17-.72-.38-.94-.59l.01-.02z\">\\n                  </path>\\n                 </svg>\\n                 <p class=\"be b du z dt\">\\n                  <span class=\"pw-responses-count lh hx\">\\n                   6\\n                  </span>\\n                 </p>\\n                </button>\\n               </div>\\n              </div>\\n             </div>\\n             <div class=\"ab q jw jx jy jz ka kb kc kd ke kf kg kh ki kj kk\">\\n              <div class=\"lm k j i d\">\\n              </div>\\n              <div class=\"h k\">\\n               <div>\\n                <div aria-hidden=\"false\" class=\"bl\">\\n                 <span>\\n                  <a class=\"af ag ah ai aj ak al am an ao ap aq ar as at\" data-testid=\"headerBookmarkButton\" href=\"https://medium.com/m/signin?actionUrl=https%3A%2F%2Fmedium.com%2F_%2Fbookmark%2Fp%2Fc43af9b8cd3d&amp;operation=register&amp;redirect=https%3A%2F%2Fbeccajean.medium.com%2Fapril-brings-americas-first-total-eclipse-since-2017-what-you-need-to-know-c43af9b8cd3d&amp;source=-----c43af9b8cd3d---------------------bookmark_footer-----------\" rel=\"noopener follow\">\\n                   <svg aria-label=\"Add to list bookmark button\" class=\"dt ln\" fill=\"none\" height=\"25\" viewbox=\"0 0 25 25\" width=\"25\">\\n                    <path d=\"M18 2.5a.5.5 0 0 1 1 0V5h2.5a.5.5 0 0 1 0 1H19v2.5a.5.5 0 1 1-1 0V6h-2.5a.5.5 0 0 1 0-1H18V2.5zM7 7a1 1 0 0 1 1-1h3.5a.5.5 0 0 0 0-1H8a2 2 0 0 0-2 2v14a.5.5 0 0 0 .8.4l5.7-4.4 5.7 4.4a.5.5 0 0 0 .8-.4v-8.5a.5.5 0 0 0-1 0v7.48l-5.2-4a.5.5 0 0 0-.6 0l-5.2 4V7z\" fill=\"currentColor\">\\n                    </path>\\n                   </svg>\\n                  </a>\\n                 </span>\\n                </div>\\n               </div>\\n              </div>\\n              <div class=\"fc lo cm\">\\n               <div class=\"l ae\">\\n                <div class=\"ab ca\">\\n                 <div class=\"lp lq lr ls lt lu ch bg\">\\n                  <div class=\"ab\">\\n                  </div>\\n                 </div>\\n                </div>\\n               </div>\\n              </div>\\n              <div aria-describedby=\"postFooterSocialMenu\" aria-hidden=\"false\" aria-labelledby=\"postFooterSocialMenu\" class=\"bl\">\\n               <div>\\n                <div aria-hidden=\"false\" class=\"bl\">\\n                 <button aria-controls=\"postFooterSocialMenu\" aria-expanded=\"false\" aria-label=\"Share Post\" class=\"af fj ah ai aj ak al lv an ao ap ew lw lx ll ly lz ma mb mc s md me mf mg mh mi mj u mk ml mm\" data-testid=\"headerSocialShareButton\">\\n                  <svg fill=\"none\" height=\"24\" viewbox=\"0 0 24 24\" width=\"24\">\\n                   <path clip-rule=\"evenodd\" d=\"M15.22 4.93a.42.42 0 0 1-.12.13h.01a.45.45 0 0 1-.29.08.52.52 0 0 1-.3-.13L12.5 3v7.07a.5.5 0 0 1-.5.5.5.5 0 0 1-.5-.5V3.02l-2 2a.45.45 0 0 1-.57.04h-.02a.4.4 0 0 1-.16-.3.4.4 0 0 1 .1-.32l2.8-2.8a.5.5 0 0 1 .7 0l2.8 2.8a.42.42 0 0 1 .07.5zm-.1.14zm.88 2h1.5a2 2 0 0 1 2 2v10a2 2 0 0 1-2 2h-11a2 2 0 0 1-2-2v-10a2 2 0 0 1 2-2H8a.5.5 0 0 1 .35.14c.1.1.15.22.15.35a.5.5 0 0 1-.15.35.5.5 0 0 1-.35.15H6.4c-.5 0-.9.4-.9.9v10.2a.9.9 0 0 0 .9.9h11.2c.5 0 .9-.4.9-.9V8.96c0-.5-.4-.9-.9-.9H16a.5.5 0 0 1 0-1z\" fill=\"currentColor\" fill-rule=\"evenodd\">\\n                   </path>\\n                  </svg>\\n                  <div class=\"j i d\">\\n                   <p class=\"be b bf z dt\">\\n                    Share\\n                   </p>\\n                  </div>\\n                 </button>\\n                </div>\\n               </div>\\n              </div>\\n             </div>\\n            </div>\\n           </div>\\n          </div>\\n         </div>\\n        </div>\\n        <p class=\"pw-post-body-paragraph mn mo hb mp b mq mr ms mt mu mv mw mx my mz na nb nc nd ne nf ng nh ni nj nk gu bj\" id=\"413a\">\\n         In just one month the skies of North America, including Mexico, the United States, and Canada, will be graced with a total solar eclipse. This is the first total eclipse to be visible from America since 2017, leading to increasing excitement as the big day approaches. This astronomical event is gearing up to be one of the largest social gatherings you’ll ever attend, so there are a couple of things to keep in mind as you make plans for April. Keep reading to learn more about eclipses, how to see one, and how to get the most out of this spectacular event.\\n        </p>\\n        <figure class=\"no np nq nr ns nt nl nm paragraph-image\">\\n         <div class=\"nu nv fi nw bg nx\" role=\"button\" tabindex=\"0\">\\n          <div class=\"nl nm nn\">\\n           <picture>\\n            <source sizes=\"(min-resolution: 4dppx) and (max-width: 700px) 50vw, (-webkit-min-device-pixel-ratio: 4) and (max-width: 700px) 50vw, (min-resolution: 3dppx) and (max-width: 700px) 67vw, (-webkit-min-device-pixel-ratio: 3) and (max-width: 700px) 65vw, (min-resolution: 2.5dppx) and (max-width: 700px) 80vw, (-webkit-min-device-pixel-ratio: 2.5) and (max-width: 700px) 80vw, (min-resolution: 2dppx) and (max-width: 700px) 100vw, (-webkit-min-device-pixel-ratio: 2) and (max-width: 700px) 100vw, 700px\" srcset=\"https://miro.medium.com/v2/resize:fit:640/format:webp/1*Ybp5L594dHyhU3GK7v28zw.jpeg 640w, https://miro.medium.com/v2/resize:fit:720/format:webp/1*Ybp5L594dHyhU3GK7v28zw.jpeg 720w, https://miro.medium.com/v2/resize:fit:750/format:webp/1*Ybp5L594dHyhU3GK7v28zw.jpeg 750w, https://miro.medium.com/v2/resize:fit:786/format:webp/1*Ybp5L594dHyhU3GK7v28zw.jpeg 786w, https://miro.medium.com/v2/resize:fit:828/format:webp/1*Ybp5L594dHyhU3GK7v28zw.jpeg 828w, https://miro.medium.com/v2/resize:fit:1100/format:webp/1*Ybp5L594dHyhU3GK7v28zw.jpeg 1100w, https://miro.medium.com/v2/resize:fit:1400/format:webp/1*Ybp5L594dHyhU3GK7v28zw.jpeg 1400w\" type=\"image/webp\"/>\\n            <source data-testid=\"og\" sizes=\"(min-resolution: 4dppx) and (max-width: 700px) 50vw, (-webkit-min-device-pixel-ratio: 4) and (max-width: 700px) 50vw, (min-resolution: 3dppx) and (max-width: 700px) 67vw, (-webkit-min-device-pixel-ratio: 3) and (max-width: 700px) 65vw, (min-resolution: 2.5dppx) and (max-width: 700px) 80vw, (-webkit-min-device-pixel-ratio: 2.5) and (max-width: 700px) 80vw, (min-resolution: 2dppx) and (max-width: 700px) 100vw, (-webkit-min-device-pixel-ratio: 2) and (max-width: 700px) 100vw, 700px\" srcset=\"https://miro.medium.com/v2/resize:fit:640/1*Ybp5L594dHyhU3GK7v28zw.jpeg 640w, https://miro.medium.com/v2/resize:fit:720/1*Ybp5L594dHyhU3GK7v28zw.jpeg 720w, https://miro.medium.com/v2/resize:fit:750/1*Ybp5L594dHyhU3GK7v28zw.jpeg 750w, https://miro.medium.com/v2/resize:fit:786/1*Ybp5L594dHyhU3GK7v28zw.jpeg 786w, https://miro.medium.com/v2/resize:fit:828/1*Ybp5L594dHyhU3GK7v28zw.jpeg 828w, https://miro.medium.com/v2/resize:fit:1100/1*Ybp5L594dHyhU3GK7v28zw.jpeg 1100w, https://miro.medium.com/v2/resize:fit:1400/1*Ybp5L594dHyhU3GK7v28zw.jpeg 1400w\"/>\\n            <img alt=\"A string of images showing the phases of a total eclipse with a yellow sun slowly being block, becoming completely blocked in the middle, and then being unblocked.\" class=\"bg lu ny c\" height=\"484\" loading=\"eager\" width=\"700\"/>\\n           </picture>\\n          </div>\\n         </div>\\n         <figcaption class=\"nz fe oa nl nm ob oc be b bf z dt\">\\n          A composite image of the phases of the 2017 total solar eclipse in the United States. Credit:\\n          <a class=\"af od\" href=\"https://unsplash.com/@bryangoffphoto?utm_content=creditCopyText&amp;utm_medium=referral&amp;utm_source=unsplash\" rel=\"noopener ugc nofollow\" target=\"_blank\">\\n           Bryan Goff\\n          </a>\\n          on\\n          <a class=\"af od\" href=\"https://unsplash.com/photos/solar-eclipse-3d-wallpaper-we1ky8_ZTHg?utm_content=creditCopyText&amp;utm_medium=referral&amp;utm_source=unsplash\" rel=\"noopener ugc nofollow\" target=\"_blank\">\\n           Unsplash\\n          </a>\\n          .\\n         </figcaption>\\n        </figure>\\n        <h1 class=\"oe of hb be og oh oi oj ok ol om on oo op oq or os ot ou ov ow ox oy oz pa pb bj\" id=\"fc8c\">\\n         What is a Total Solar Eclipse?\\n        </h1>\\n        <p class=\"pw-post-body-paragraph mn mo hb mp b mq pc ms mt mu pd mw mx my pe na nb nc pf ne nf ng pg ni nj nk gu bj\" id=\"0ee7\">\\n         An eclipse happens when the Sun, Earth, and Moon are in perfect alignment with each other. When the Moon travels directly in front of the Sun, it blocks sunlight and causes a solar eclipse. When the Moon is on the opposite side of Earth and the Earth travels directly in front of the Sun, it casts its shadow on the Moon and causes a lunar eclipse. These events, especially solar eclipses, can only take place because the Moon and Sun both have the same apparent size from our perspective on Earth.\\n        </p>\\n        <p class=\"pw-post-body-paragraph mn mo hb mp b mq mr ms mt mu mv mw mx my mz na nb nc nd ne nf ng nh ni nj nk gu bj\" id=\"6479\">\\n         Solar and lunar eclipses are much more common than you think. In fact, “eclipse seasons” occur approximately every six months. But if the Sun and Moon are the same apparent…\\n        </p>\\n       </div>\\n      </div>\\n     </div>\\n    </div>\\n   </section>\\n  </div>\\n </div>\\n</article>\\n'"
      ]
     },
     "metadata": {},
     "output_type": "display_data"
    }
   ],
   "source": [
    "display(extracted_html)"
   ]
  },
  {
   "cell_type": "code",
   "execution_count": null,
   "metadata": {},
   "outputs": [],
   "source": []
  }
 ],
 "metadata": {
  "kernelspec": {
   "display_name": ".venv",
   "language": "python",
   "name": "python3"
  },
  "language_info": {
   "codemirror_mode": {
    "name": "ipython",
    "version": 3
   },
   "file_extension": ".py",
   "mimetype": "text/x-python",
   "name": "python",
   "nbconvert_exporter": "python",
   "pygments_lexer": "ipython3",
   "version": "3.10.12"
  }
 },
 "nbformat": 4,
 "nbformat_minor": 2
}
